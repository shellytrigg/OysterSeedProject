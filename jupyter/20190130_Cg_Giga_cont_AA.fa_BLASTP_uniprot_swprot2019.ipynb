{
 "cells": [
  {
   "cell_type": "code",
   "execution_count": 1,
   "metadata": {},
   "outputs": [
    {
     "name": "stdout",
     "output_type": "stream",
     "text": [
      "--2019-01-30 13:03:30--  ftp://ftp.uniprot.org/pub/databases/uniprot/current_release/knowledgebase/complete/uniprot_sprot.fasta.gz\n",
      "           => ‘/Users/strigg/Desktop/gigas_blastP_uniprot/uniprot_swprot2019_01.fasta.gz’\n",
      "Resolving ftp.uniprot.org... 141.161.180.197\n",
      "Connecting to ftp.uniprot.org|141.161.180.197|:21... connected.\n",
      "Logging in as anonymous ... Logged in!\n",
      "==> SYST ... done.    ==> PWD ... done.\n",
      "==> TYPE I ... done.  ==> CWD (1) /pub/databases/uniprot/current_release/knowledgebase/complete ... done.\n",
      "==> SIZE uniprot_sprot.fasta.gz ... 88385361\n",
      "==> PASV ... done.    ==> RETR uniprot_sprot.fasta.gz ... done.\n",
      "Length: 88385361 (84M) (unauthoritative)\n",
      "\n",
      "uniprot_sprot.fasta 100%[===================>]  84.29M  6.85MB/s    in 11s     \n",
      "\n",
      "2019-01-30 13:03:43 (7.44 MB/s) - ‘/Users/strigg/Desktop/gigas_blastP_uniprot/uniprot_swprot2019_01.fasta.gz’ saved [88385361]\n",
      "\n"
     ]
    }
   ],
   "source": [
    "!wget ftp://ftp.uniprot.org/pub/databases/uniprot/current_release/knowledgebase/complete/uniprot_sprot.fasta.gz -O /Users/strigg/Desktop/gigas_blastP_uniprot/uniprot_swprot2019_01.fasta.gz"
   ]
  },
  {
   "cell_type": "code",
   "execution_count": 2,
   "metadata": {},
   "outputs": [],
   "source": [
    "!gunzip -k /Users/strigg/Desktop/gigas_blastP_uniprot/uniprot_swprot2019_01.fasta.gz"
   ]
  },
  {
   "cell_type": "code",
   "execution_count": 3,
   "metadata": {},
   "outputs": [
    {
     "name": "stdout",
     "output_type": "stream",
     "text": [
      "\n",
      "\n",
      "Building a new DB, current time: 01/30/2019 13:11:04\n",
      "New DB name:   /Users/strigg/Desktop/gigas_blastP_uniprot/uniprot_swprot2019_db\n",
      "New DB title:  /Users/strigg/Desktop/gigas_blastP_uniprot/uniprot_swprot2019_01.fasta\n",
      "Sequence type: Protein\n",
      "Keep MBits: T\n",
      "Maximum file size: 1000000000B\n",
      "Adding sequences from FASTA; added 559077 sequences in 55.0913 seconds.\n"
     ]
    }
   ],
   "source": [
    "!/Users/Shared/bioinformatics/ncbi-blast-2.5.0+/bin/makeblastdb \\\n",
    "-in /Users/strigg/Desktop/gigas_blastP_uniprot/uniprot_swprot2019_01.fasta \\\n",
    "-out /Users/strigg/Desktop/gigas_blastP_uniprot/uniprot_swprot2019_db \\\n",
    "-dbtype prot"
   ]
  },
  {
   "cell_type": "code",
   "execution_count": 4,
   "metadata": {},
   "outputs": [],
   "source": [
    "#Confirm Steven's .fa file is the same as Sean's\n",
    "!diff /Volumes/web/halfshell/bu-git-repos/nb-2017/C_gigas/data/Cg_Giga_cont_AA.fa \\\n",
    "/Volumes/web/scaphapoda/Sean/Rhonda-2016-Oyster-Intermediates/Cg-Giga_cont_AA.fa"
   ]
  },
  {
   "cell_type": "code",
   "execution_count": null,
   "metadata": {},
   "outputs": [],
   "source": [
    "#can sort database before aligning to change the order of entries. We don't care that much about taxanomic group, we car about protein functionality. So it doesn't matter for us if human gets called over mouse or vice-versa. So I am not worrying about changing the max_target_seqs parameter"
   ]
  },
  {
   "cell_type": "code",
   "execution_count": null,
   "metadata": {},
   "outputs": [],
   "source": [
    "!/Users/Shared/bioinformatics/ncbi-blast-2.5.0+/bin/blastp \\\n",
    "-query /Volumes/web/halfshell/bu-git-repos/nb-2017/C_gigas/data/Cg_Giga_cont_AA.fa \\\n",
    "-db /Users/strigg/Desktop/gigas_blastP_uniprot/uniprot_swprot2019_db \\\n",
    "-out /Users/strigg/Desktop/gigas_blastP_uniprot/giga-uniprot-blastP-out.tab \\\n",
    "-num_threads 8 \\\n",
    "-max_hsps 1 \\\n",
    "-max_target_seqs 1 \\\n",
    "-outfmt 6"
   ]
  },
  {
   "cell_type": "code",
   "execution_count": null,
   "metadata": {},
   "outputs": [],
   "source": [
    "#formatting output so that uniprot accessions are in one column\n",
    "#first test to see if all uniprot db entries start with the same pattern \"sp|\"\n",
    "#This awk command finds every line containing a '>' and prints the first three characters after the carrot\n",
    "#Awk command literally: if first field contains a carrot, print a substring of the first field string, starting at the second character in the string, that is 3 characters long\n",
    "# sort the list of substrings and print only unique substrings and their frequencies\n",
    "#if there is only one substring, we can conclude all uniprot DB entries start with the same pattern \"sp|\"\n",
    "!awk '{if($1~/>/)print substr($1,2,3)}' uniprot_swprot2019_01.fasta | sort | uniq -c"
   ]
  },
  {
   "cell_type": "code",
   "execution_count": null,
   "metadata": {},
   "outputs": [],
   "source": [
    "#Next check that there is only 1 pipe in each uniprot DB name after removing the \"sp|\" pattern\n",
    "#we tell awk that our file is tab delimited, then print only the sequence name\n",
    "#then sed to remove the 'sp|' pattern\n",
    "#then sed to replace all non '|' characters with nothing and awk to count the number of characters remaining in each line\n",
    "#https://unix.stackexchange.com/questions/18736/how-to-count-the-number-of-a-specific-character-in-each-line\n",
    "#then sort and unique to see if there are different number of pipes in each line\n",
    "awk -F\"\\t\" '{if($1~/>/)print $1}' uniprot_swprot2019_01.fasta | sed 's/sp\\|//g' | sed 's/[^|]//g' | awk '{print length}' | sort | uniq -c"
   ]
  },
  {
   "cell_type": "code",
   "execution_count": null,
   "metadata": {},
   "outputs": [],
   "source": [
    "#Next check that the uniprot DB does not contain the pattern \"|m\"\n",
    "#And that only the C_gigas sequence names contain \"|m\"\n",
    "#We want to check this so that we can replace \"\\m\" with \".m\"\n",
    "!grep '\\|m' uniprot_swprot2019_01.fasta | head\n",
    "!grep '\\|m' /Volumes/web/halfshell/bu-git-repos/nb-2017/C_gigas/data/Cg_Giga_cont_AA.fa | head\n"
   ]
  },
  {
   "cell_type": "code",
   "execution_count": null,
   "metadata": {},
   "outputs": [],
   "source": [
    "# now in our BLAST output file, we can replace 'sp|' with nothing, \"|m\" with \".m\", and then finally we can replace the only remaining pipe with tabs"
   ]
  },
  {
   "cell_type": "code",
   "execution_count": null,
   "metadata": {},
   "outputs": [],
   "source": [
    "#Because all uniprot DB entries start with the same pattern, we can replace it with nothing so that each entry starts with the uniprot accession\n",
    "\n",
    "!sed 's/sp\\|//g'  | sed 's/\\|m/\\.m/g' | tr '|' '\\t' "
   ]
  }
 ],
 "metadata": {
  "kernelspec": {
   "display_name": "Python 3",
   "language": "python",
   "name": "python3"
  },
  "language_info": {
   "codemirror_mode": {
    "name": "ipython",
    "version": 3
   },
   "file_extension": ".py",
   "mimetype": "text/x-python",
   "name": "python",
   "nbconvert_exporter": "python",
   "pygments_lexer": "ipython3",
   "version": "3.6.6"
  }
 },
 "nbformat": 4,
 "nbformat_minor": 2
}
